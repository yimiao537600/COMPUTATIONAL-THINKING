{
  "nbformat": 4,
  "nbformat_minor": 0,
  "metadata": {
    "colab": {
      "name": "week11.ipynb",
      "provenance": [],
      "authorship_tag": "ABX9TyNlvMYY8/lw9AYKHMK7oNn2",
      "include_colab_link": true
    },
    "kernelspec": {
      "name": "python3",
      "display_name": "Python 3"
    }
  },
  "cells": [
    {
      "cell_type": "markdown",
      "metadata": {
        "id": "view-in-github",
        "colab_type": "text"
      },
      "source": [
        "<a href=\"https://colab.research.google.com/github/yimiao537600/COMPUTATIONAL-THINKING/blob/main/week11.ipynb\" target=\"_parent\"><img src=\"https://colab.research.google.com/assets/colab-badge.svg\" alt=\"Open In Colab\"/></a>"
      ]
    },
    {
      "cell_type": "code",
      "metadata": {
        "colab": {
          "base_uri": "https://localhost:8080/",
          "height": 131
        },
        "id": "qxRD-DX4IK6g",
        "outputId": "4d2dcd29-119d-432c-e1ad-c0e7a2806e53"
      },
      "source": [
        "# chatbot introduction\n",
        "print('Hello. I am Zyxo 64. I am a chatbot')\n",
        "print('I like animals and I love to talk about food')\n",
        "name = input('What is your name?: ')\n",
        "print('Hello', name, ', Nice to meet you')\n",
        "\n",
        "# get year information\n",
        "year = input('I am not very good at dates. What \\\n",
        "is the year?: ')\n",
        "print('Yes, I think that is correct. Thanks! ')\n",
        "\n",
        "# ask user to guess age\n",
        "myage = input('Can you guess my age? - enter a \\\n",
        "number: ')\n",
        "print('Yes you are right. I am ', myage)\n",
        "\n",
        "# do math to calculate when chatbot will be 100\n",
        "myage = int(myage)\n",
        "nyears = 100 - myage\n",
        "print('I will be 100 in', nyears, 'years')\n",
        "print('That will be the year', int(year) + \\\n",
        "nyears)\n",
        "\n",
        "# food conversation\n",
        "print('I love chocolate and I also like trying out new kinds of\n",
        "food')\n",
        "food = input('How about you? What is your favorite food?: ')\n",
        "print('I like', food, 'too.')\n",
        "question = 'How often do you eat ' + food + '?: '\n",
        "howoften = input(question)\n",
        "print('Interesting. I wonder if that is good for your health')\n",
        "\n",
        "# animal conversation\n",
        "animal = input('My favorite animal is a giraffe. What is yours?:\n",
        "')\n",
        "print(animal,'! I do not like them.')\n",
        "print('I wonder if a', animal, 'likes to eat', food, '?')\n",
        "\n",
        "# conversation about feelings\n",
        "feeling = input('How are you feeling today?: ')\n",
        "print('Why are you feeling', feeling, 'now?')\n",
        "reason = input('Please tell me: ')\n",
        "print('I understand. Thanks for sharing')\n",
        "\n",
        "# goodbye\n",
        "print('It has been a long day')\n",
        "print('I am too tired to talk. We can chat again later.')\n",
        "print('Goodbye', name, 'I liked chatting with you')"
      ],
      "execution_count": 29,
      "outputs": [
        {
          "output_type": "error",
          "ename": "SyntaxError",
          "evalue": "ignored",
          "traceback": [
            "\u001b[0;36m  File \u001b[0;32m\"<ipython-input-29-3dcd3f29a09b>\"\u001b[0;36m, line \u001b[0;32m22\u001b[0m\n\u001b[0;31m    print('I love chocolate and I also like trying out new kinds of\u001b[0m\n\u001b[0m                                                                   ^\u001b[0m\n\u001b[0;31mSyntaxError\u001b[0m\u001b[0;31m:\u001b[0m EOL while scanning string literal\n"
          ]
        }
      ]
    }
  ]
}
{
  "nbformat": 4,
  "nbformat_minor": 0,
  "metadata": {
    "colab": {
      "name": "week14.ipynb",
      "provenance": [],
      "authorship_tag": "ABX9TyPcGyfxxfdDmLlap3WSVHWr",
      "include_colab_link": true
    },
    "kernelspec": {
      "name": "python3",
      "display_name": "Python 3"
    }
  },
  "cells": [
    {
      "cell_type": "markdown",
      "metadata": {
        "id": "view-in-github",
        "colab_type": "text"
      },
      "source": [
        "<a href=\"https://colab.research.google.com/github/yimiao537600/COMPUTATIONAL-THINKING/blob/main/week14.ipynb\" target=\"_parent\"><img src=\"https://colab.research.google.com/assets/colab-badge.svg\" alt=\"Open In Colab\"/></a>"
      ]
    },
    {
      "cell_type": "code",
      "metadata": {
        "id": "ZYoy9rIEq-lO"
      },
      "source": [
        "start = int(input('請輸入加總開始值'))\r\n",
        "end = int(input('請輸入加總終止值'))\r\n",
        "step = int(input('請輸入遞增減值'))\r\n",
        "sum = 0\r\n",
        "for i in range(start, end, step):\r\n",
        "  sum = sum + i\r\n",
        "  print('i為',  i , '時,累加結果為' , sum) "
      ],
      "execution_count": null,
      "outputs": []
    },
    {
      "cell_type": "code",
      "metadata": {
        "colab": {
          "base_uri": "https://localhost:8080/"
        },
        "id": "-3josP6bydij",
        "outputId": "be1cdfb1-c199-4f3b-f146-69526fa2b06c"
      },
      "source": [
        "cars = [\"Toyata\", \"Honda\"]\r\n",
        "for i in cars:\r\n",
        "  print(i)\r\n",
        "\r\n",
        "names = [\"Allen\", \"James\", \"Tom\", \"Jack\"]\r\n",
        "for i in names:\r\n",
        "  print('Welcome to Class!', i)\r\n",
        "\r\n",
        "sheet = ['牛奶', '蛋', '咖啡豆']\r\n",
        "for i in range(0,len(sheet)):\r\n",
        "  print (i, sheet[i])\r\n",
        "\r\n",
        "numbers = [123, 456, 789]\r\n",
        "for i in numbers:\r\n",
        "  print(i)\r\n",
        "  \r\n",
        "numbers = [123, 456, 789]\r\n",
        "for i in range(0, len(numbers)):\r\n",
        "  print(i, numbers[i])\r\n",
        "\r\n"
      ],
      "execution_count": 21,
      "outputs": [
        {
          "output_type": "stream",
          "text": [
            "Toyata\n",
            "Honda\n",
            "Welcome to Class! Allen\n",
            "Welcome to Class! James\n",
            "Welcome to Class! Tom\n",
            "Welcome to Class! Jack\n",
            "0 牛奶\n",
            "1 蛋\n",
            "2 咖啡豆\n",
            "123\n",
            "456\n",
            "789\n",
            "0 123\n",
            "1 456\n",
            "2 789\n"
          ],
          "name": "stdout"
        }
      ]
    },
    {
      "cell_type": "code",
      "metadata": {
        "colab": {
          "base_uri": "https://localhost:8080/"
        },
        "id": "cCQYYImy0gPO",
        "outputId": "1aa9df0b-1829-471c-edf5-9c628f164452"
      },
      "source": [
        "sheet = ['牛奶', '蛋', '咖啡豆']\r\n",
        "for index in [0,1,2]:\r\n",
        "  print (index)\r\n",
        "\r\n",
        "sheet = ['牛奶', '蛋', '咖啡豆']\r\n",
        "for index in sheet:\r\n",
        "  print (index)\r\n",
        "\r\n",
        "sheet = ['牛奶', '蛋', '咖啡豆'] \r\n",
        "for index in [0,1,2]:  \r\n",
        "  print (index, sheet[index])\r\n",
        "\r\n",
        "sheet = ['牛奶', '蛋', '咖啡豆']\r\n",
        "for index in range (0,len(sheet)):\r\n",
        "  print(index, sheet[index])"
      ],
      "execution_count": 22,
      "outputs": [
        {
          "output_type": "stream",
          "text": [
            "0\n",
            "1\n",
            "2\n",
            "牛奶\n",
            "蛋\n",
            "咖啡豆\n",
            "0 牛奶\n",
            "1 蛋\n",
            "2 咖啡豆\n",
            "0 牛奶\n",
            "1 蛋\n",
            "2 咖啡豆\n"
          ],
          "name": "stdout"
        }
      ]
    },
    {
      "cell_type": "code",
      "metadata": {
        "id": "oqgHX8W53wji"
      },
      "source": [
        "people = [\"Peter\",\"Andy\",\"Lisa\",\"Wendy\",\"Queen\",\"Amanda\"]\r\n"
      ],
      "execution_count": 23,
      "outputs": []
    }
  ]
}
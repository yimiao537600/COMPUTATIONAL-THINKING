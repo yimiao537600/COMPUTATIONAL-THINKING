{
  "nbformat": 4,
  "nbformat_minor": 0,
  "metadata": {
    "colab": {
      "name": "week13.ipynb",
      "provenance": [],
      "authorship_tag": "ABX9TyOgKiBL7cDLRFQxL1RY2pmY",
      "include_colab_link": true
    },
    "kernelspec": {
      "name": "python3",
      "display_name": "Python 3"
    }
  },
  "cells": [
    {
      "cell_type": "markdown",
      "metadata": {
        "id": "view-in-github",
        "colab_type": "text"
      },
      "source": [
        "<a href=\"https://colab.research.google.com/github/yimiao537600/COMPUTATIONAL-THINKING/blob/main/week13.ipynb\" target=\"_parent\"><img src=\"https://colab.research.google.com/assets/colab-badge.svg\" alt=\"Open In Colab\"/></a>"
      ]
    },
    {
      "cell_type": "code",
      "metadata": {
        "id": "CpQZQTOSkjaO"
      },
      "source": [
        "#資料容器-list\n",
        "\n",
        "##文字串列\n",
        "##數字串列\n",
        "##混和串列\n",
        "\n",
        "list1 = [1,2,3,4,5]\n",
        "\n",
        "##N 索引 positiop index - 0\n",
        "\n",
        "list1[0] # 1\n",
        "list1[4] # 5\n",
        "list1[-1] # 5\n",
        "\n",
        "\n",
        "## **切片**\n",
        "list1[1:4] # [2,3,4]\n",
        "\n",
        "# 數字串列二: range()\n",
        "list1 = [1,2,3,4,5]\n",
        "\n",
        "list2 = range(1,10000,1) # [1,2,3,4,5]\n",
        "\n",
        "list3 = rannge(1,6,2) # [1,3,5]\n"
      ],
      "execution_count": 1,
      "outputs": []
    },
    {
      "cell_type": "code",
      "metadata": {
        "id": "a3riZZXgzqDp"
      },
      "source": [
        "# range(start, stop, step)\n",
        "# [0, 1, 2, 3, 4, 5, 6, 7, 8, 9]\n",
        "## star = 0, step = 1, stop= 10\n",
        "range(0,10,1)\n",
        "range(0,10)\n",
        "list4 = range(10)\n",
        "\n",
        "\n",
        "# [0,2,4,6,8]\n",
        "## star = 0, step, = 2, stop = 10\n",
        "n = range(0,10,2)\n",
        "print(n[0], n[1], n[2], n[3], n[4])\n",
        "\n",
        "# [5,7,9]\n",
        "## star = 5, step = 2, stop = 11\n",
        "p = range(5,11,2)\n",
        "print(p[0], p[1], p[2])\n",
        "\n",
        "# [0,-1,-2,-3,-4,-5,-6,-7,-8,-9]\n",
        "##star = 0, step = -1, stop = -11\n",
        "m = range(0,-10,-1)\n",
        "print(m[0], m[1], m[2], m[3], m[4], m[5], m[6], m[7], m[8], m[9])"
      ],
      "execution_count": null,
      "outputs": []
    },
    {
      "cell_type": "code",
      "metadata": {
        "id": "Zgi4XLne730W"
      },
      "source": [
        "# 2+4+6+8+10=?\n",
        "sum = 0\n",
        "for i in range(2,11,2):\n",
        "  sum = sum + i\n",
        "print(\"Total is\", sum)\n"
      ],
      "execution_count": null,
      "outputs": []
    },
    {
      "cell_type": "code",
      "metadata": {
        "colab": {
          "base_uri": "https://localhost:8080/"
        },
        "id": "I9TRrIHz9ZV_",
        "outputId": "f12387bc-fe34-44ed-e197-a2613c419fbf"
      },
      "source": [
        "#3+6+9+12=?\n",
        "sum = 0\n",
        "for i in range(3,14,3):\n",
        "  sum = sum + i\n",
        "print(\"Total is\", sum)\n"
      ],
      "execution_count": 14,
      "outputs": [
        {
          "output_type": "stream",
          "text": [
            "Total is 30\n"
          ],
          "name": "stdout"
        }
      ]
    },
    {
      "cell_type": "code",
      "metadata": {
        "colab": {
          "base_uri": "https://localhost:8080/"
        },
        "id": "ul7q_blT9wXF",
        "outputId": "f47c4986-5ded-4251-b95a-80c2efcb7884"
      },
      "source": [
        "for i in range(1,6,1):\n",
        "  print(\"Hello\")"
      ],
      "execution_count": 15,
      "outputs": [
        {
          "output_type": "stream",
          "text": [
            "Hello\n",
            "Hello\n",
            "Hello\n",
            "Hello\n",
            "Hello\n"
          ],
          "name": "stdout"
        }
      ]
    }
  ]
}